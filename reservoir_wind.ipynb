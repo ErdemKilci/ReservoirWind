{
  "nbformat": 4,
  "nbformat_minor": 0,
  "metadata": {
    "colab": {
      "provenance": [],
      "include_colab_link": true
    },
    "kernelspec": {
      "name": "python3",
      "display_name": "Python 3"
    },
    "language_info": {
      "name": "python"
    }
  },
  "cells": [
    {
      "cell_type": "markdown",
      "metadata": {
        "id": "view-in-github",
        "colab_type": "text"
      },
      "source": [
        "<a href=\"https://colab.research.google.com/github/ErdemKilci/ReservoirWind/blob/main/reservoir_wind.ipynb\" target=\"_parent\"><img src=\"https://colab.research.google.com/assets/colab-badge.svg\" alt=\"Open In Colab\"/></a>"
      ]
    },
    {
      "cell_type": "code",
      "execution_count": null,
      "metadata": {
        "id": "NasCSLTWmz65",
        "colab": {
          "base_uri": "https://localhost:8080/"
        },
        "collapsed": true,
        "outputId": "9ebae4ee-06fa-4a7a-e812-a38e430294c8"
      },
      "outputs": [
        {
          "output_type": "stream",
          "name": "stdout",
          "text": [
            "Requirement already satisfied: pandas in /usr/local/lib/python3.11/dist-packages (2.2.2)\n",
            "Requirement already satisfied: matplotlib in /usr/local/lib/python3.11/dist-packages (3.10.0)\n",
            "Requirement already satisfied: openpyxl in /usr/local/lib/python3.11/dist-packages (3.1.5)\n",
            "Requirement already satisfied: numpy>=1.23.2 in /usr/local/lib/python3.11/dist-packages (from pandas) (1.26.4)\n",
            "Requirement already satisfied: python-dateutil>=2.8.2 in /usr/local/lib/python3.11/dist-packages (from pandas) (2.8.2)\n",
            "Requirement already satisfied: pytz>=2020.1 in /usr/local/lib/python3.11/dist-packages (from pandas) (2024.2)\n",
            "Requirement already satisfied: tzdata>=2022.7 in /usr/local/lib/python3.11/dist-packages (from pandas) (2024.2)\n",
            "Requirement already satisfied: contourpy>=1.0.1 in /usr/local/lib/python3.11/dist-packages (from matplotlib) (1.3.1)\n",
            "Requirement already satisfied: cycler>=0.10 in /usr/local/lib/python3.11/dist-packages (from matplotlib) (0.12.1)\n",
            "Requirement already satisfied: fonttools>=4.22.0 in /usr/local/lib/python3.11/dist-packages (from matplotlib) (4.55.3)\n",
            "Requirement already satisfied: kiwisolver>=1.3.1 in /usr/local/lib/python3.11/dist-packages (from matplotlib) (1.4.8)\n",
            "Requirement already satisfied: packaging>=20.0 in /usr/local/lib/python3.11/dist-packages (from matplotlib) (24.2)\n",
            "Requirement already satisfied: pillow>=8 in /usr/local/lib/python3.11/dist-packages (from matplotlib) (11.1.0)\n",
            "Requirement already satisfied: pyparsing>=2.3.1 in /usr/local/lib/python3.11/dist-packages (from matplotlib) (3.2.1)\n",
            "Requirement already satisfied: et-xmlfile in /usr/local/lib/python3.11/dist-packages (from openpyxl) (2.0.0)\n",
            "Requirement already satisfied: six>=1.5 in /usr/local/lib/python3.11/dist-packages (from python-dateutil>=2.8.2->pandas) (1.17.0)\n"
          ]
        }
      ],
      "source": [
        "pip install pandas matplotlib openpyxl\n"
      ]
    },
    {
      "cell_type": "code",
      "source": [
        "import os\n",
        "import pandas as pd\n",
        "import matplotlib.pyplot as plt\n",
        "\n",
        "# 1. Angi filbanen for dataene\n",
        "data_folder = \"Data\"  # Mappen hvor Excel-filene ligger\n",
        "\n",
        "# 2. Finn alle Excel-filene i mappen\n",
        "excel_files = [f for f in os.listdir(data_folder) if f.endswith('.xlsx')]\n",
        "\n",
        "# 3. Les inn og kombiner alle filene til én DataFrame\n",
        "all_data = pd.DataFrame()\n",
        "\n",
        "for file in excel_files:\n",
        "    file_path = os.path.join(data_folder, file)\n",
        "    # Les inn filen (forutsetter at alle filer har samme kolonneformat)\n",
        "    data = pd.read_excel(file_path)\n",
        "\n",
        "    # Legg til dataen i hoved-DataFrame\n",
        "    all_data = pd.concat([all_data, data], ignore_index=True)\n",
        "\n",
        "# 4. Utforsk dataene\n",
        "print(\"Data oversikt:\")\n",
        "print(all_data.info())\n",
        "\n",
        "print(\"\\nEksempeldata:\")\n",
        "print(all_data.head())"
      ],
      "metadata": {
        "colab": {
          "base_uri": "https://localhost:8080/",
          "height": 211
        },
        "id": "kRGikqASYF35",
        "outputId": "003cff7e-fa76-4ab4-f630-6af9d7b58a42"
      },
      "execution_count": null,
      "outputs": [
        {
          "output_type": "error",
          "ename": "FileNotFoundError",
          "evalue": "[Errno 2] No such file or directory: 'Data'",
          "traceback": [
            "\u001b[0;31m---------------------------------------------------------------------------\u001b[0m",
            "\u001b[0;31mFileNotFoundError\u001b[0m                         Traceback (most recent call last)",
            "\u001b[0;32m<ipython-input-3-f4b4d5e025b3>\u001b[0m in \u001b[0;36m<cell line: 0>\u001b[0;34m()\u001b[0m\n\u001b[1;32m      7\u001b[0m \u001b[0;34m\u001b[0m\u001b[0m\n\u001b[1;32m      8\u001b[0m \u001b[0;31m# 2. Finn alle Excel-filene i mappen\u001b[0m\u001b[0;34m\u001b[0m\u001b[0;34m\u001b[0m\u001b[0m\n\u001b[0;32m----> 9\u001b[0;31m \u001b[0mexcel_files\u001b[0m \u001b[0;34m=\u001b[0m \u001b[0;34m[\u001b[0m\u001b[0mf\u001b[0m \u001b[0;32mfor\u001b[0m \u001b[0mf\u001b[0m \u001b[0;32min\u001b[0m \u001b[0mos\u001b[0m\u001b[0;34m.\u001b[0m\u001b[0mlistdir\u001b[0m\u001b[0;34m(\u001b[0m\u001b[0mdata_folder\u001b[0m\u001b[0;34m)\u001b[0m \u001b[0;32mif\u001b[0m \u001b[0mf\u001b[0m\u001b[0;34m.\u001b[0m\u001b[0mendswith\u001b[0m\u001b[0;34m(\u001b[0m\u001b[0;34m'.xlsx'\u001b[0m\u001b[0;34m)\u001b[0m\u001b[0;34m]\u001b[0m\u001b[0;34m\u001b[0m\u001b[0;34m\u001b[0m\u001b[0m\n\u001b[0m\u001b[1;32m     10\u001b[0m \u001b[0;34m\u001b[0m\u001b[0m\n\u001b[1;32m     11\u001b[0m \u001b[0;31m# 3. Les inn og kombiner alle filene til én DataFrame\u001b[0m\u001b[0;34m\u001b[0m\u001b[0;34m\u001b[0m\u001b[0m\n",
            "\u001b[0;31mFileNotFoundError\u001b[0m: [Errno 2] No such file or directory: 'Data'"
          ]
        }
      ]
    },
    {
      "cell_type": "code",
      "source": [
        "# Rensing av data og fjern tomme rad\n",
        "all_data = all_data.dropna(subset=['Time', 'Forecast Load', 'Actual Load'])\n",
        "print(\"Data oversikt:\")\n",
        "print(all_data.info())"
      ],
      "metadata": {
        "colab": {
          "base_uri": "https://localhost:8080/"
        },
        "id": "7mBpNf5LY67W",
        "outputId": "3a42da2e-929b-4f4f-ffc3-1235487fe923"
      },
      "execution_count": null,
      "outputs": [
        {
          "output_type": "stream",
          "name": "stdout",
          "text": [
            "Data oversikt:\n",
            "<class 'pandas.core.frame.DataFrame'>\n",
            "Index: 88065 entries, 2 to 108485\n",
            "Data columns (total 3 columns):\n",
            " #   Column         Non-Null Count  Dtype \n",
            "---  ------         --------------  ----- \n",
            " 0   Time           88065 non-null  object\n",
            " 1   Forecast Load  88065 non-null  object\n",
            " 2   Actual Load    88065 non-null  object\n",
            "dtypes: object(3)\n",
            "memory usage: 2.7+ MB\n",
            "None\n"
          ]
        }
      ]
    },
    {
      "cell_type": "code",
      "source": [
        "print(\"\\nEksempeldata:\")\n",
        "print(all_data.head())"
      ],
      "metadata": {
        "id": "Z_Z4AVCKbAZD",
        "colab": {
          "base_uri": "https://localhost:8080/"
        },
        "outputId": "57e6265c-13d0-4614-bb15-7e573f32b29f"
      },
      "execution_count": null,
      "outputs": [
        {
          "output_type": "stream",
          "name": "stdout",
          "text": [
            "\n",
            "Eksempeldata:\n",
            "            Time Forecast Load Actual Load\n",
            "2  00:00 - 01:00         17872       18350\n",
            "3  01:00 - 02:00         18118       18364\n",
            "4  02:00 - 03:00         17993       18224\n",
            "5  03:00 - 04:00         17851       18030\n",
            "6  04:00 - 05:00         17827       18009\n"
          ]
        }
      ]
    },
    {
      "cell_type": "code",
      "source": [
        "# Konverter tid til datetime-format\n",
        "all_data['Time'] = pd.to_datetime(all_data['Time'], errors='coerce')"
      ],
      "metadata": {
        "colab": {
          "base_uri": "https://localhost:8080/"
        },
        "id": "NToE9AyIcmCF",
        "outputId": "6f5ae685-4875-4e60-e9e1-3669c0a6b3ad"
      },
      "execution_count": null,
      "outputs": [
        {
          "output_type": "stream",
          "name": "stderr",
          "text": [
            "<ipython-input-8-bba5d406eede>:2: UserWarning: Could not infer format, so each element will be parsed individually, falling back to `dateutil`. To ensure parsing is consistent and as-expected, please specify a format.\n",
            "  all_data['Time'] = pd.to_datetime(all_data['Time'], errors='coerce')\n"
          ]
        }
      ]
    },
    {
      "cell_type": "code",
      "source": [],
      "metadata": {
        "id": "pj7zUBB2c11z"
      },
      "execution_count": null,
      "outputs": []
    }
  ]
}